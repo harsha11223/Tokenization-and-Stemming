{
 "cells": [
  {
   "cell_type": "code",
   "execution_count": 1,
   "id": "1663c661",
   "metadata": {},
   "outputs": [],
   "source": [
    "AI='Use AI to boost your traffic and save hours of work. Automatically write unique, engaging and high-quality copy or content: from long-form blog posts or landing pages to digital ads in seconds.'"
   ]
  },
  {
   "cell_type": "code",
   "execution_count": 2,
   "id": "4d736fe6",
   "metadata": {},
   "outputs": [
    {
     "data": {
      "text/plain": [
       "'Use AI to boost your traffic and save hours of work. Automatically write unique, engaging and high-quality copy or content: from long-form blog posts or landing pages to digital ads in seconds.'"
      ]
     },
     "execution_count": 2,
     "metadata": {},
     "output_type": "execute_result"
    }
   ],
   "source": [
    "AI"
   ]
  },
  {
   "cell_type": "code",
   "execution_count": 3,
   "id": "3f58f376",
   "metadata": {},
   "outputs": [
    {
     "data": {
      "text/plain": [
       "str"
      ]
     },
     "execution_count": 3,
     "metadata": {},
     "output_type": "execute_result"
    }
   ],
   "source": [
    "type(AI)"
   ]
  },
  {
   "cell_type": "code",
   "execution_count": 4,
   "id": "4cfcb9b5",
   "metadata": {},
   "outputs": [],
   "source": [
    "from nltk.tokenize import word_tokenize"
   ]
  },
  {
   "cell_type": "code",
   "execution_count": 50,
   "id": "cfb92967",
   "metadata": {},
   "outputs": [
    {
     "data": {
      "text/plain": [
       "['Use',\n",
       " 'AI',\n",
       " 'to',\n",
       " 'boost',\n",
       " 'your',\n",
       " 'traffic',\n",
       " 'and',\n",
       " 'save',\n",
       " 'hours',\n",
       " 'of',\n",
       " 'work',\n",
       " '.',\n",
       " 'Automatically',\n",
       " 'write',\n",
       " 'unique',\n",
       " ',',\n",
       " 'engaging',\n",
       " 'and',\n",
       " 'high-quality',\n",
       " 'copy',\n",
       " 'or',\n",
       " 'content',\n",
       " ':',\n",
       " 'from',\n",
       " 'long-form',\n",
       " 'blog',\n",
       " 'posts',\n",
       " 'or',\n",
       " 'landing',\n",
       " 'pages',\n",
       " 'to',\n",
       " 'digital',\n",
       " 'ads',\n",
       " 'in',\n",
       " 'seconds',\n",
       " '.']"
      ]
     },
     "execution_count": 50,
     "metadata": {},
     "output_type": "execute_result"
    }
   ],
   "source": [
    "AI1=word_tokenize(AI)\n",
    "AI1\n",
    "#len(AI1)"
   ]
  },
  {
   "cell_type": "code",
   "execution_count": 8,
   "id": "3995e4dc",
   "metadata": {},
   "outputs": [],
   "source": [
    "from nltk.tokenize import sent_tokenize\n"
   ]
  },
  {
   "cell_type": "code",
   "execution_count": 19,
   "id": "21fa8f3e",
   "metadata": {},
   "outputs": [
    {
     "data": {
      "text/plain": [
       "['Use AI to boost your traffic and save hours of work.',\n",
       " 'Automatically write unique, engaging and high-quality copy or content: from long-form blog posts or landing pages to digital ads in seconds.']"
      ]
     },
     "execution_count": 19,
     "metadata": {},
     "output_type": "execute_result"
    }
   ],
   "source": [
    "AI2=sent_tokenize(AI)\n",
    "AI2\n",
    "#len(AI2)"
   ]
  },
  {
   "cell_type": "code",
   "execution_count": 13,
   "id": "83ed79fa",
   "metadata": {},
   "outputs": [],
   "source": [
    "from nltk.tokenize import blankline_tokenize"
   ]
  },
  {
   "cell_type": "code",
   "execution_count": 20,
   "id": "44055d63",
   "metadata": {},
   "outputs": [
    {
     "data": {
      "text/plain": [
       "1"
      ]
     },
     "execution_count": 20,
     "metadata": {},
     "output_type": "execute_result"
    }
   ],
   "source": [
    "AI3=blankline_tokenize(AI)\n",
    "len(AI3)"
   ]
  },
  {
   "cell_type": "code",
   "execution_count": 29,
   "id": "0403b8bc",
   "metadata": {},
   "outputs": [],
   "source": [
    "from nltk.util import bigrams\n"
   ]
  },
  {
   "cell_type": "code",
   "execution_count": 33,
   "id": "0f42b8d1",
   "metadata": {},
   "outputs": [
    {
     "data": {
      "text/plain": [
       "['Use',\n",
       " 'AI',\n",
       " 'to',\n",
       " 'boost',\n",
       " 'your',\n",
       " 'traffic',\n",
       " 'and',\n",
       " 'save',\n",
       " 'hours',\n",
       " 'of',\n",
       " 'work',\n",
       " '.',\n",
       " 'Automatically',\n",
       " 'write',\n",
       " 'unique',\n",
       " ',',\n",
       " 'engaging',\n",
       " 'and',\n",
       " 'high-quality',\n",
       " 'copy',\n",
       " 'or',\n",
       " 'content',\n",
       " ':',\n",
       " 'from',\n",
       " 'long-form',\n",
       " 'blog',\n",
       " 'posts',\n",
       " 'or',\n",
       " 'landing',\n",
       " 'pages',\n",
       " 'to',\n",
       " 'digital',\n",
       " 'ads',\n",
       " 'in',\n",
       " 'seconds',\n",
       " '.']"
      ]
     },
     "execution_count": 33,
     "metadata": {},
     "output_type": "execute_result"
    }
   ],
   "source": [
    "AI='Use AI to boost your traffic and save hours of work. Automatically write unique, engaging and high-quality copy or content: from long-form blog posts or landing pages to digital ads in seconds.'\n",
    "AI4=nltk.word_tokenize(AI)\n",
    "AI4\n"
   ]
  },
  {
   "cell_type": "code",
   "execution_count": 32,
   "id": "0c84d019",
   "metadata": {},
   "outputs": [],
   "source": [
    "import os\n",
    "import nltk"
   ]
  },
  {
   "cell_type": "code",
   "execution_count": 34,
   "id": "1f24b912",
   "metadata": {},
   "outputs": [
    {
     "data": {
      "text/plain": [
       "36"
      ]
     },
     "execution_count": 34,
     "metadata": {},
     "output_type": "execute_result"
    }
   ],
   "source": [
    "len(AI4)"
   ]
  },
  {
   "cell_type": "code",
   "execution_count": 35,
   "id": "3b8cf7e5",
   "metadata": {},
   "outputs": [],
   "source": [
    " from nltk.util import trigrams"
   ]
  },
  {
   "cell_type": "code",
   "execution_count": 43,
   "id": "38b44199",
   "metadata": {},
   "outputs": [
    {
     "data": {
      "text/plain": [
       "[('Use', 'AI'),\n",
       " ('AI', 'to'),\n",
       " ('to', 'boost'),\n",
       " ('boost', 'your'),\n",
       " ('your', 'traffic'),\n",
       " ('traffic', 'and'),\n",
       " ('and', 'save'),\n",
       " ('save', 'hours'),\n",
       " ('hours', 'of'),\n",
       " ('of', 'work'),\n",
       " ('work', '.'),\n",
       " ('.', 'Automatically'),\n",
       " ('Automatically', 'write'),\n",
       " ('write', 'unique'),\n",
       " ('unique', ','),\n",
       " (',', 'engaging'),\n",
       " ('engaging', 'and'),\n",
       " ('and', 'high-quality'),\n",
       " ('high-quality', 'copy'),\n",
       " ('copy', 'or'),\n",
       " ('or', 'content'),\n",
       " ('content', ':'),\n",
       " (':', 'from'),\n",
       " ('from', 'long-form'),\n",
       " ('long-form', 'blog'),\n",
       " ('blog', 'posts'),\n",
       " ('posts', 'or'),\n",
       " ('or', 'landing'),\n",
       " ('landing', 'pages'),\n",
       " ('pages', 'to'),\n",
       " ('to', 'digital'),\n",
       " ('digital', 'ads'),\n",
       " ('ads', 'in'),\n",
       " ('in', 'seconds'),\n",
       " ('seconds', '.')]"
      ]
     },
     "execution_count": 43,
     "metadata": {},
     "output_type": "execute_result"
    }
   ],
   "source": [
    "AI6=list(nltk.bigrams(AI4))\n",
    "AI6"
   ]
  },
  {
   "cell_type": "code",
   "execution_count": 45,
   "id": "2b7b75ad",
   "metadata": {},
   "outputs": [],
   "source": [
    " from nltk.util import trigrams"
   ]
  },
  {
   "cell_type": "code",
   "execution_count": 46,
   "id": "995d1d93",
   "metadata": {},
   "outputs": [
    {
     "data": {
      "text/plain": [
       "[('Use', 'AI', 'to'),\n",
       " ('AI', 'to', 'boost'),\n",
       " ('to', 'boost', 'your'),\n",
       " ('boost', 'your', 'traffic'),\n",
       " ('your', 'traffic', 'and'),\n",
       " ('traffic', 'and', 'save'),\n",
       " ('and', 'save', 'hours'),\n",
       " ('save', 'hours', 'of'),\n",
       " ('hours', 'of', 'work'),\n",
       " ('of', 'work', '.'),\n",
       " ('work', '.', 'Automatically'),\n",
       " ('.', 'Automatically', 'write'),\n",
       " ('Automatically', 'write', 'unique'),\n",
       " ('write', 'unique', ','),\n",
       " ('unique', ',', 'engaging'),\n",
       " (',', 'engaging', 'and'),\n",
       " ('engaging', 'and', 'high-quality'),\n",
       " ('and', 'high-quality', 'copy'),\n",
       " ('high-quality', 'copy', 'or'),\n",
       " ('copy', 'or', 'content'),\n",
       " ('or', 'content', ':'),\n",
       " ('content', ':', 'from'),\n",
       " (':', 'from', 'long-form'),\n",
       " ('from', 'long-form', 'blog'),\n",
       " ('long-form', 'blog', 'posts'),\n",
       " ('blog', 'posts', 'or'),\n",
       " ('posts', 'or', 'landing'),\n",
       " ('or', 'landing', 'pages'),\n",
       " ('landing', 'pages', 'to'),\n",
       " ('pages', 'to', 'digital'),\n",
       " ('to', 'digital', 'ads'),\n",
       " ('digital', 'ads', 'in'),\n",
       " ('ads', 'in', 'seconds'),\n",
       " ('in', 'seconds', '.')]"
      ]
     },
     "execution_count": 46,
     "metadata": {},
     "output_type": "execute_result"
    }
   ],
   "source": [
    "AI7=list(nltk.trigrams(AI4))\n",
    "AI7"
   ]
  },
  {
   "cell_type": "code",
   "execution_count": 47,
   "id": "a8fe5b45",
   "metadata": {},
   "outputs": [],
   "source": [
    " from nltk.util import ngrams"
   ]
  },
  {
   "cell_type": "code",
   "execution_count": 48,
   "id": "1aca7779",
   "metadata": {},
   "outputs": [],
   "source": [
    "AI8=list(nltk.ngrams(AI4,5))"
   ]
  },
  {
   "cell_type": "code",
   "execution_count": 49,
   "id": "dd47f22f",
   "metadata": {},
   "outputs": [
    {
     "data": {
      "text/plain": [
       "[('Use', 'AI', 'to', 'boost', 'your'),\n",
       " ('AI', 'to', 'boost', 'your', 'traffic'),\n",
       " ('to', 'boost', 'your', 'traffic', 'and'),\n",
       " ('boost', 'your', 'traffic', 'and', 'save'),\n",
       " ('your', 'traffic', 'and', 'save', 'hours'),\n",
       " ('traffic', 'and', 'save', 'hours', 'of'),\n",
       " ('and', 'save', 'hours', 'of', 'work'),\n",
       " ('save', 'hours', 'of', 'work', '.'),\n",
       " ('hours', 'of', 'work', '.', 'Automatically'),\n",
       " ('of', 'work', '.', 'Automatically', 'write'),\n",
       " ('work', '.', 'Automatically', 'write', 'unique'),\n",
       " ('.', 'Automatically', 'write', 'unique', ','),\n",
       " ('Automatically', 'write', 'unique', ',', 'engaging'),\n",
       " ('write', 'unique', ',', 'engaging', 'and'),\n",
       " ('unique', ',', 'engaging', 'and', 'high-quality'),\n",
       " (',', 'engaging', 'and', 'high-quality', 'copy'),\n",
       " ('engaging', 'and', 'high-quality', 'copy', 'or'),\n",
       " ('and', 'high-quality', 'copy', 'or', 'content'),\n",
       " ('high-quality', 'copy', 'or', 'content', ':'),\n",
       " ('copy', 'or', 'content', ':', 'from'),\n",
       " ('or', 'content', ':', 'from', 'long-form'),\n",
       " ('content', ':', 'from', 'long-form', 'blog'),\n",
       " (':', 'from', 'long-form', 'blog', 'posts'),\n",
       " ('from', 'long-form', 'blog', 'posts', 'or'),\n",
       " ('long-form', 'blog', 'posts', 'or', 'landing'),\n",
       " ('blog', 'posts', 'or', 'landing', 'pages'),\n",
       " ('posts', 'or', 'landing', 'pages', 'to'),\n",
       " ('or', 'landing', 'pages', 'to', 'digital'),\n",
       " ('landing', 'pages', 'to', 'digital', 'ads'),\n",
       " ('pages', 'to', 'digital', 'ads', 'in'),\n",
       " ('to', 'digital', 'ads', 'in', 'seconds'),\n",
       " ('digital', 'ads', 'in', 'seconds', '.')]"
      ]
     },
     "execution_count": 49,
     "metadata": {},
     "output_type": "execute_result"
    }
   ],
   "source": [
    "AI8"
   ]
  },
  {
   "cell_type": "code",
   "execution_count": 51,
   "id": "88e5d7e7",
   "metadata": {},
   "outputs": [
    {
     "data": {
      "text/plain": [
       "32"
      ]
     },
     "execution_count": 51,
     "metadata": {},
     "output_type": "execute_result"
    }
   ],
   "source": [
    "len(AI8)"
   ]
  },
  {
   "cell_type": "code",
   "execution_count": 53,
   "id": "417f92ec",
   "metadata": {},
   "outputs": [
    {
     "data": {
      "text/plain": [
       "34"
      ]
     },
     "execution_count": 53,
     "metadata": {},
     "output_type": "execute_result"
    }
   ],
   "source": [
    "len(AI7)"
   ]
  },
  {
   "cell_type": "code",
   "execution_count": 54,
   "id": "82c5c04e",
   "metadata": {},
   "outputs": [],
   "source": [
    "from nltk.stem import PorterStemmer"
   ]
  },
  {
   "cell_type": "code",
   "execution_count": 55,
   "id": "723deace",
   "metadata": {},
   "outputs": [],
   "source": [
    "pst=PorterStemmer()"
   ]
  },
  {
   "cell_type": "code",
   "execution_count": 56,
   "id": "e4f1042f",
   "metadata": {},
   "outputs": [
    {
     "data": {
      "text/plain": [
       "'have'"
      ]
     },
     "execution_count": 56,
     "metadata": {},
     "output_type": "execute_result"
    }
   ],
   "source": [
    "pst.stem('having')"
   ]
  },
  {
   "cell_type": "code",
   "execution_count": 58,
   "id": "0350a6b9",
   "metadata": {},
   "outputs": [
    {
     "name": "stdout",
     "output_type": "stream",
     "text": [
      "give:give\n",
      "giving:give\n",
      "given:given\n",
      "gave:gave\n"
     ]
    }
   ],
   "source": [
    "words_to_stem=['give','giving','given','gave']\n",
    "for words in  words_to_stem:\n",
    "    print(words+':'+pst.stem(words))"
   ]
  },
  {
   "cell_type": "code",
   "execution_count": 59,
   "id": "1a9b1a5d",
   "metadata": {},
   "outputs": [],
   "source": [
    "from nltk.stem import LancasterStemmer"
   ]
  },
  {
   "cell_type": "code",
   "execution_count": 60,
   "id": "1a13fbb7",
   "metadata": {},
   "outputs": [],
   "source": [
    "lst=LancasterStemmer()"
   ]
  },
  {
   "cell_type": "code",
   "execution_count": 61,
   "id": "0c0ac23a",
   "metadata": {},
   "outputs": [
    {
     "data": {
      "text/plain": [
       "'hav'"
      ]
     },
     "execution_count": 61,
     "metadata": {},
     "output_type": "execute_result"
    }
   ],
   "source": [
    "lst.stem('having')"
   ]
  },
  {
   "cell_type": "code",
   "execution_count": 63,
   "id": "6c53a2ad",
   "metadata": {},
   "outputs": [
    {
     "data": {
      "text/plain": [
       "'play'"
      ]
     },
     "execution_count": 63,
     "metadata": {},
     "output_type": "execute_result"
    }
   ],
   "source": [
    "lst.stem('playing')"
   ]
  },
  {
   "cell_type": "code",
   "execution_count": 64,
   "id": "06409083",
   "metadata": {},
   "outputs": [
    {
     "name": "stdout",
     "output_type": "stream",
     "text": [
      "give:giv\n",
      "giving:giv\n",
      "given:giv\n",
      "gave:gav\n"
     ]
    }
   ],
   "source": [
    "words_to_stem=['give','giving','given','gave']\n",
    "for words in  words_to_stem:\n",
    "    print(words+':'+lst.stem(words))"
   ]
  },
  {
   "cell_type": "code",
   "execution_count": 65,
   "id": "af6ff880",
   "metadata": {},
   "outputs": [],
   "source": [
    "from nltk.stem import SnowballStemmer"
   ]
  },
  {
   "cell_type": "code",
   "execution_count": 66,
   "id": "31968449",
   "metadata": {},
   "outputs": [
    {
     "name": "stdout",
     "output_type": "stream",
     "text": [
      "give:give\n",
      "giving:give\n",
      "given:given\n",
      "gave:gave\n"
     ]
    }
   ],
   "source": [
    "sbst=SnowballStemmer('english')\n",
    "for words in  words_to_stem:\n",
    "    print(words+':'+sbst.stem(words))"
   ]
  },
  {
   "cell_type": "code",
   "execution_count": 67,
   "id": "701b4941",
   "metadata": {},
   "outputs": [
    {
     "name": "stdout",
     "output_type": "stream",
     "text": [
      "give:giv\n",
      "giving:giving\n",
      "given:giv\n",
      "gave:gav\n"
     ]
    }
   ],
   "source": [
    "sbst1=SnowballStemmer('spanish')\n",
    "for words in  words_to_stem:\n",
    "    print(words+':'+sbst1.stem(words))"
   ]
  },
  {
   "cell_type": "code",
   "execution_count": null,
   "id": "4c1cc5fc",
   "metadata": {},
   "outputs": [],
   "source": []
  }
 ],
 "metadata": {
  "kernelspec": {
   "display_name": "Python 3 (ipykernel)",
   "language": "python",
   "name": "python3"
  },
  "language_info": {
   "codemirror_mode": {
    "name": "ipython",
    "version": 3
   },
   "file_extension": ".py",
   "mimetype": "text/x-python",
   "name": "python",
   "nbconvert_exporter": "python",
   "pygments_lexer": "ipython3",
   "version": "3.9.12"
  }
 },
 "nbformat": 4,
 "nbformat_minor": 5
}
